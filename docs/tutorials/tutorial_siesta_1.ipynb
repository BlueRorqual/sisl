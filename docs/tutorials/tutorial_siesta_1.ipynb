{
 "cells": [
  {
   "cell_type": "code",
   "execution_count": null,
   "metadata": {},
   "outputs": [],
   "source": [
    "from __future__ import print_function, division\n",
    "import os\n",
    "os.chdir('siesta_1')\n",
    "import numpy as np\n",
    "from sisl import *\n",
    "import matplotlib.pyplot as plt\n",
    "%matplotlib inline"
   ]
  },
  {
   "cell_type": "markdown",
   "metadata": {},
   "source": [
    "# Siesta --- the H2O molecule\n",
    "\n",
    "This tutorial will describe a complete walk-through of a large fraction of the `sisl` functionalities that may be related to the [Siesta code](http://launchpad.net/siesta).\n",
    "\n",
    "## Creating the geometry to investigate\n",
    "\n",
    "Our system of interest will be the $\\mathrm H_2\\mathrm O$ system. We will start by creating the geometry:"
   ]
  },
  {
   "cell_type": "code",
   "execution_count": null,
   "metadata": {},
   "outputs": [],
   "source": [
    "h2o = Geometry([[0, 0, 0], [0.8, 0.6, 0], [-0.8, 0.6, 0.]], \n",
    "               [Atom('O'), Atom('H'), Atom('H')], \n",
    "               sc=SuperCell(10, origo=[-5] * 3))"
   ]
  },
  {
   "cell_type": "markdown",
   "metadata": {},
   "source": [
    "The input are the 1) xyz coordinates, 2) the atomic species and 3) the supercell that is attached.\n",
    "\n",
    "By printing the object one gets basic information regarding the geometry, such as 1) number of atoms, 2) species of atoms, 3) number of orbitals, 4) orbitals associated with each atom and 5) number of supercells."
   ]
  },
  {
   "cell_type": "code",
   "execution_count": null,
   "metadata": {},
   "outputs": [],
   "source": [
    "print(h2o)"
   ]
  },
  {
   "cell_type": "markdown",
   "metadata": {},
   "source": [
    "So there are 3 atoms, 1 Oxygen and 2 Hydrogen. Currently there are only 1 orbital per atom.  \n",
    "Later we will look into the details of *orbitals* associated with *atoms* and how they may be used for wavefunctions etc.\n",
    "\n",
    "Lets visualize the atomic positions (here adding atomic indices)"
   ]
  },
  {
   "cell_type": "code",
   "execution_count": null,
   "metadata": {},
   "outputs": [],
   "source": [
    "plt.scatter(h2o.xyz[:, 0], h2o.xyz[:, 1], s=h2o.atom.Z*50);\n",
    "plt.xlabel(r'$x$'); plt.ylabel(r'$y$');"
   ]
  },
  {
   "cell_type": "markdown",
   "metadata": {},
   "source": [
    "Now we need to create the input fdf file for Siesta:"
   ]
  },
  {
   "cell_type": "code",
   "execution_count": null,
   "metadata": {},
   "outputs": [],
   "source": [
    "with open('RUN.fdf', 'w') as f:\n",
    "    f.write(\"\"\"%include STRUCT.fdf\n",
    "PAO.BasisSize SZP\n",
    "SystemLabel siesta_1\n",
    "MeshCutoff 250. Ry\n",
    "CDF.Save true\n",
    "CDF.Compress 9\n",
    "SaveHS true\n",
    "SaveRho true\n",
    "\"\"\")\n",
    "h2o.write('STRUCT.fdf')"
   ]
  },
  {
   "cell_type": "markdown",
   "metadata": {},
   "source": [
    "The first block of code simply writes a text-file with the required input, the last line of code tells the geometry (`h2o`) to write its information to the file `STRUCT.fdf`. It automatically writes the species blocks etc. to the file."
   ]
  },
  {
   "cell_type": "markdown",
   "metadata": {},
   "source": [
    "## Creating the electronic structure\n",
    "\n",
    "Now run Siesta to obtain the electronic structure.\n",
    "\n",
    "After having completed the Siesta run we may read the Hamiltonian to manipulate and extract different informations."
   ]
  },
  {
   "cell_type": "code",
   "execution_count": null,
   "metadata": {},
   "outputs": [],
   "source": [
    "fdf = get_sile('RUN.fdf')\n",
    "H = fdf.read_hamiltonian()\n",
    "geom = H.geometry\n",
    "print(H)"
   ]
  },
  {
   "cell_type": "markdown",
   "metadata": {},
   "source": [
    "A lot of new information has appeared. First the Hamiltonian object describes the non-orthogonal basis and the \"hopping\" elements between the orbitals. We see it is a non-orthogonal basis via: `orthogonal: False`. Secondly, we see it was an un-polarized calculation. Lastly the geometry information is printed again. Contrary to the printing of the geometry higher up we now find additional information based on the orbitals on each of the atoms. The oxygen has 9 orbitals while the hydrogens has 4 orbitals. For each orbital one can see its maximal radial part and how charges are initially distributed."
   ]
  },
  {
   "cell_type": "markdown",
   "metadata": {},
   "source": [
    "### Plotting orbitals\n",
    "\n",
    "Often it may be educational (and fun) to plot the orbitals wavefunctions. To do this we use the intrinsic method in the `Orbital` class named `toGrid`. The below code is rather complicated, but that is simply because we want to show the orbitals in a rectangular grid of plots."
   ]
  },
  {
   "cell_type": "code",
   "execution_count": null,
   "metadata": {},
   "outputs": [],
   "source": [
    "def plot_atom(atom):\n",
    "    no = len(atom) # number of orbitals\n",
    "    nx = no // 4\n",
    "    ny = no // nx\n",
    "    if nx * ny < no:\n",
    "        nx += 1\n",
    "    fig, axs = plt.subplots(nx, ny, figsize=(20, 5*nx))\n",
    "    fig.suptitle('Atom: {}'.format(atom.symbol), fontsize=14)\n",
    "    def my_plot(i, orb):\n",
    "        grid = orb.toGrid(Z=atom.Z)\n",
    "        # Also write to a cube file\n",
    "        grid.write('{}_{}.cube'.format(atom.symbol, orb.name()))\n",
    "        c, r = i // 4, (i - 4) % 4\n",
    "        if nx == 1:\n",
    "            ax = axs[r]\n",
    "        else:\n",
    "            ax = axs[c][r]\n",
    "        ax.imshow(grid.grid[:, :, grid.shape[2] // 2])\n",
    "        ax.set_title(r'${}$'.format(orb.name(True)))\n",
    "        ax.set_xlabel(r'$x$ [Ang]')\n",
    "        ax.set_ylabel(r'$y$ [Ang]')\n",
    "    i = 0\n",
    "    for orb in atom:\n",
    "        my_plot(i, orb)\n",
    "        i += 1\n",
    "    if i < nx * ny:\n",
    "        # This removes the empty plots\n",
    "        for j in range(i, nx * ny):\n",
    "            c, r = j // 4, (j - 4) % 4\n",
    "            if nx == 1:\n",
    "                ax = axs[r]\n",
    "            else:\n",
    "                ax = axs[c][r]\n",
    "            fig.delaxes(ax)\n",
    "        plt.draw()\n",
    "plot_atom(geom.atom[0])\n",
    "plot_atom(geom.atom[1])"
   ]
  },
  {
   "cell_type": "markdown",
   "metadata": {},
   "source": [
    "## Hamiltonian eigenstates\n",
    "\n",
    "At this point we have the full Hamiltonian as well as the basis functions used in the Siesta calculation.\n",
    "This completes what is needed to calculate a great deal of physical quantities, e.g. eigenstates, density of states, projected density of states and wavefunctions.\n",
    "\n",
    "To begin with we calculate the $\\Gamma$-point eigenstates and plot a subset of the eigenstates' norm on the geometry."
   ]
  },
  {
   "cell_type": "code",
   "execution_count": null,
   "metadata": {},
   "outputs": [],
   "source": [
    "es = H.eigenstate()\n",
    "h2o = H.geometry\n",
    "h2o.sc.origo = [-4, -4, -4]\n",
    "print(h2o.sc, h2o.sc.origo)\n",
    "O_idx = h2o.a2o(0, True)\n",
    "H1_idx = h2o.a2o(1, True)\n",
    "H2_idx = h2o.a2o(2, True)\n",
    "# Reduce the contained eigenstates to only the HOMO and LUMO\n",
    "idx_homo = (es.eig > 0).nonzero()[0][0] - 1\n",
    "es = es.sub(np.arange(idx_homo, idx_homo + 2))\n",
    "_, ax = plt.subplots(1, 2, figsize=(14, 2));\n",
    "for i, (n, c) in enumerate(zip(es.norm2(sum=False), 'rbg')):\n",
    "    ax[i].scatter(h2o.xyz[0, 0], h2o.xyz[0, 1], 600 * n[O_idx].sum(), facecolor=c, alpha=0.5);\n",
    "    ax[i].scatter(h2o.xyz[1, 0], h2o.xyz[1, 1], 600 * n[H1_idx].sum(), facecolor=c, alpha=0.5);\n",
    "    ax[i].scatter(h2o.xyz[2, 0], h2o.xyz[2, 1], 600 * n[H2_idx].sum(), facecolor=c, alpha=0.5);"
   ]
  },
  {
   "cell_type": "markdown",
   "metadata": {},
   "source": [
    "These are not that interesting. The projection of the HOMO and LUMO states show where the largest weight of the HOMO and LUMO states, however we can't see the symmetry differences between the HOMO and LUMO states.\n",
    "\n",
    "Instead of plotting the weight on each orbital it is more interesting to plot the actual wavefunctions which contains the orbital symmetries, however, matplotlib is currently not capable of plotting real-space iso-surface plots. To do this, please use VMD or your preferred software."
   ]
  },
  {
   "cell_type": "code",
   "execution_count": null,
   "metadata": {},
   "outputs": [],
   "source": [
    "def integrate(g):\n",
    "    print('Real space integrated wavefunction: {:.4f}'.format((np.absolute(g.grid) ** 2).sum() * g.dvolume))\n",
    "g = Grid(0.2, sc=h2o.sc)\n",
    "es.sub(0).wavefunction(g, eta=True)\n",
    "integrate(g)\n",
    "#g.write('HOMO.cube')\n",
    "g.fill(0)\n",
    "es.sub(1).wavefunction(g, eta=True)\n",
    "integrate(g)\n",
    "#g.write('LUMO.cube')"
   ]
  },
  {
   "cell_type": "markdown",
   "metadata": {},
   "source": [
    "## Real space charge\n",
    "\n",
    "Since we have the basis functions we can also plot the charge in the grid. We can do this via either reading the density matrix or read in the charge output from Siesta directly.\n",
    "Since both should yield the same value we can compare the output from Siesta with that calculated in sisl.\n",
    "\n",
    "You will notice that re-creating the density on a real space grid in sisl is much slower than creating the wavefunction. This is because we need _orbital multiplications_."
   ]
  },
  {
   "cell_type": "code",
   "execution_count": null,
   "metadata": {},
   "outputs": [],
   "source": [
    "DM = fdf.read_density_matrix()\n",
    "rho = get_sile('siesta_1.nc').read_grid('Rho')"
   ]
  },
  {
   "cell_type": "code",
   "execution_count": null,
   "metadata": {},
   "outputs": [],
   "source": [
    "# Now calculate the density on the same grid using sisl and compare to Siesta output\n",
    "DM_rho = rho.copy()\n",
    "DM_rho.fill(0)\n",
    "DM.density(DM_rho, eta=True)\n",
    "diff = DM_rho - rho\n",
    "print('Real space integrated density difference: {:.3e}'.format(diff.grid.sum() * diff.dvolume))"
   ]
  },
  {
   "cell_type": "code",
   "execution_count": null,
   "metadata": {},
   "outputs": [],
   "source": []
  }
 ],
 "metadata": {
  "kernelspec": {
   "display_name": "Python 3",
   "language": "python",
   "name": "python3"
  },
  "language_info": {
   "codemirror_mode": {
    "name": "ipython",
    "version": 3
   },
   "file_extension": ".py",
   "mimetype": "text/x-python",
   "name": "python",
   "nbconvert_exporter": "python",
   "pygments_lexer": "ipython3",
   "version": "3.6.4"
  }
 },
 "nbformat": 4,
 "nbformat_minor": 2
}
